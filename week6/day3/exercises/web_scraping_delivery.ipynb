{
 "cells": [
  {
   "cell_type": "markdown",
   "metadata": {},
   "source": [
    "### 1. From HTML\n",
    "\n",
    "*Using only beautiful soap*\n",
    "\n",
    "Save in a dataframe the next information using web scraping. Each row of the dataframe must have in different columns:\n",
    "\n",
    "- The name of the title\n",
    "- The id of the div where is the value scraped. If there is not id, then the value is must be numpy.nan\n",
    "- The name of the tag where is the value scraped.\n",
    "- The next scraped values in different rows: \n",
    "    - The value: \"Este es el segundo párrafo\"  --> Row 1\n",
    "    - The url https://pagina1.xyz/ --> Row 2\n",
    "    - The url https://pagina4.xyz/ --> Row 3\n",
    "    - The url https://pagina5.xyz/ --> Row 4\n",
    "    - The value \"links footer-links\" --> Row 5\n",
    "    - The value \"Este párrafo está en el footer\" --> Row 6"
   ]
  },
  {
   "cell_type": "code",
   "execution_count": null,
   "metadata": {},
   "outputs": [],
   "source": []
  },
  {
   "cell_type": "code",
   "execution_count": 43,
   "metadata": {},
   "outputs": [],
   "source": [
    "import requests\n",
    "from bs4 import BeautifulSoup\n",
    "import pandas as pd\n",
    "import re"
   ]
  },
  {
   "cell_type": "code",
   "execution_count": 44,
   "metadata": {},
   "outputs": [],
   "source": [
    "html = \"\"\"<html lang=\"es\">\n",
    "<head>\n",
    "    <meta charset=\"UTF-8\">\n",
    "    <title>Página de prueba</title>\n",
    "</head>\n",
    "<body>\n",
    "<div id=\"main\" class=\"full-width\">\n",
    "    <h1>El título de la página</h1>\n",
    "    <p>Este es el primer párrafo</p>\n",
    "    <p>Este es el segundo párrafo</p>\n",
    "    <div id=\"innerDiv\">\n",
    "        <div class=\"links\">\n",
    "            <a href=\"https://pagina1.xyz/\">Enlace 1</a>\n",
    "            <a href=\"https://pagina2.xyz/\">Enlace 2</a>\n",
    "        </div>\n",
    "        <div class=\"right\">\n",
    "            <div class=\"links\">\n",
    "                <a href=\"https://pagina3.xyz/\">Enlace 3</a>\n",
    "                <a href=\"https://pagina4.xyz/\">Enlace 4</a>\n",
    "            </div>\n",
    "        </div>\n",
    "    </div>\n",
    "    <div id=\"footer\">\n",
    "        <!-- El footer -->\n",
    "        <p>Este párrafo está en el footer</p>\n",
    "        <div class=\"links footer-links\">\n",
    "            <a href=\"https://pagina5.xyz/\">Enlace 5</a>\n",
    "        </div>\n",
    "    </div>\n",
    "</div>\n",
    "</body>\n",
    "</html>\"\"\"\n",
    "soup=BeautifulSoup(html,\"html.parser\")  # Esto es necesario para que se lea el código"
   ]
  },
  {
   "cell_type": "code",
   "execution_count": 45,
   "metadata": {
    "tags": []
   },
   "outputs": [
    {
     "output_type": "execute_result",
     "data": {
      "text/plain": "'Página de prueba'"
     },
     "metadata": {},
     "execution_count": 45
    }
   ],
   "source": [
    "\n",
    "title=soup.title.string\n",
    "title\n"
   ]
  },
  {
   "cell_type": "code",
   "execution_count": 46,
   "metadata": {},
   "outputs": [
    {
     "output_type": "execute_result",
     "data": {
      "text/plain": "['Página de prueba']"
     },
     "metadata": {},
     "execution_count": 46
    }
   ],
   "source": [
    "title_lista=[title]\n",
    "title_lista"
   ]
  },
  {
   "cell_type": "code",
   "execution_count": 47,
   "metadata": {},
   "outputs": [
    {
     "output_type": "execute_result",
     "data": {
      "text/plain": "['Página de prueba',\n 'Página de prueba',\n 'Página de prueba',\n 'Página de prueba',\n 'Página de prueba',\n 'Página de prueba']"
     },
     "metadata": {},
     "execution_count": 47
    }
   ],
   "source": [
    "title_lista1=title_lista*6\n",
    "title_lista1"
   ]
  },
  {
   "cell_type": "code",
   "execution_count": 48,
   "metadata": {},
   "outputs": [
    {
     "output_type": "execute_result",
     "data": {
      "text/plain": "['main', 'innerDiv', 'footer']"
     },
     "metadata": {},
     "execution_count": 48
    }
   ],
   "source": [
    "id1=[]\n",
    "for tag in soup.find_all(True,{\"id\":True}):  #Para tag que se id en soup encuentra todos los que hay en el texto html.\n",
    "    id1.append(tag[\"id\"])\n",
    "id1"
   ]
  },
  {
   "cell_type": "code",
   "execution_count": 49,
   "metadata": {},
   "outputs": [
    {
     "output_type": "execute_result",
     "data": {
      "text/plain": "['main', 'footer']"
     },
     "metadata": {},
     "execution_count": 49
    }
   ],
   "source": [
    "id1.pop(1)\n",
    "id1"
   ]
  },
  {
   "cell_type": "code",
   "execution_count": 50,
   "metadata": {},
   "outputs": [
    {
     "output_type": "execute_result",
     "data": {
      "text/plain": "['main', 'Nan', 'footer']"
     },
     "metadata": {},
     "execution_count": 50
    }
   ],
   "source": [
    "id1.insert(1,\"Nan\")\n",
    "id1"
   ]
  },
  {
   "cell_type": "code",
   "execution_count": 51,
   "metadata": {},
   "outputs": [
    {
     "output_type": "execute_result",
     "data": {
      "text/plain": "['main', 'Nan', 'Nan', 'footer']"
     },
     "metadata": {},
     "execution_count": 51
    }
   ],
   "source": [
    "id1.insert(2,\"Nan\")\n",
    "id1"
   ]
  },
  {
   "cell_type": "code",
   "execution_count": 52,
   "metadata": {},
   "outputs": [
    {
     "output_type": "execute_result",
     "data": {
      "text/plain": "['main', 'Nan', 'Nan', 'Nan', 'footer']"
     },
     "metadata": {},
     "execution_count": 52
    }
   ],
   "source": [
    "id1.insert(3,\"Nan\")\n",
    "id1"
   ]
  },
  {
   "cell_type": "code",
   "execution_count": 53,
   "metadata": {},
   "outputs": [
    {
     "output_type": "execute_result",
     "data": {
      "text/plain": "['main', 'Nan', 'Nan', 'Nan', 'footer', 'footer']"
     },
     "metadata": {},
     "execution_count": 53
    }
   ],
   "source": [
    "id1.insert(4,\"footer\")\n",
    "id1"
   ]
  },
  {
   "cell_type": "code",
   "execution_count": 54,
   "metadata": {},
   "outputs": [
    {
     "output_type": "execute_result",
     "data": {
      "text/plain": "['main', 'Nan', 'Nan', 'Nan', 'footer', 'footer']"
     },
     "metadata": {},
     "execution_count": 54
    }
   ],
   "source": [
    "ID=id1\n",
    "ID"
   ]
  },
  {
   "cell_type": "code",
   "execution_count": 55,
   "metadata": {},
   "outputs": [
    {
     "output_type": "execute_result",
     "data": {
      "text/plain": "[<a href=\"https://pagina1.xyz/\">Enlace 1</a>,\n <a href=\"https://pagina2.xyz/\">Enlace 2</a>,\n <a href=\"https://pagina3.xyz/\">Enlace 3</a>,\n <a href=\"https://pagina4.xyz/\">Enlace 4</a>,\n <a href=\"https://pagina5.xyz/\">Enlace 5</a>]"
     },
     "metadata": {},
     "execution_count": 55
    }
   ],
   "source": [
    "dir=soup.find_all(\"a\")\n",
    "dir"
   ]
  },
  {
   "cell_type": "code",
   "execution_count": 56,
   "metadata": {},
   "outputs": [
    {
     "output_type": "execute_result",
     "data": {
      "text/plain": "['https://pagina1.xyz/',\n 'https://pagina2.xyz/',\n 'https://pagina3.xyz/',\n 'https://pagina4.xyz/',\n 'https://pagina5.xyz/']"
     },
     "metadata": {},
     "execution_count": 56
    }
   ],
   "source": [
    "Lst_url=[]\n",
    "for url in dir:\n",
    "    link = url.get('href')\n",
    "    Lst_url.append(link)\n",
    "Lst_url"
   ]
  },
  {
   "cell_type": "code",
   "execution_count": 57,
   "metadata": {},
   "outputs": [],
   "source": [
    "pos=[\"p\",\"a\",\"a\",\"a\",\"div\",\"p\"]"
   ]
  },
  {
   "cell_type": "code",
   "execution_count": 58,
   "metadata": {},
   "outputs": [
    {
     "output_type": "execute_result",
     "data": {
      "text/plain": "6"
     },
     "metadata": {},
     "execution_count": 58
    }
   ],
   "source": [
    "length=len(pos)\n",
    "length"
   ]
  },
  {
   "cell_type": "code",
   "execution_count": 59,
   "metadata": {
    "tags": []
   },
   "outputs": [
    {
     "output_type": "stream",
     "name": "stdout",
     "text": "['p', 'a', 'a', 'a', 'div', 'p']\n"
    }
   ],
   "source": [
    "tag=[]\n",
    "for i in range(length):\n",
    "    tag_1=(pos[i])\n",
    "    tag.append(tag_1)\n",
    "print(tag)"
   ]
  },
  {
   "cell_type": "code",
   "execution_count": 60,
   "metadata": {},
   "outputs": [
    {
     "output_type": "execute_result",
     "data": {
      "text/plain": "[<p>Este es el segundo párrafo</p>, <p>Este párrafo está en el footer</p>]"
     },
     "metadata": {},
     "execution_count": 60
    }
   ],
   "source": [
    "parraf=soup.find_all(\"p\")\n",
    "parraf2=parraf[1::]\n",
    "parraf2"
   ]
  },
  {
   "cell_type": "code",
   "execution_count": 61,
   "metadata": {},
   "outputs": [
    {
     "output_type": "execute_result",
     "data": {
      "text/plain": "'links footer-links'"
     },
     "metadata": {},
     "execution_count": 61
    }
   ],
   "source": [
    "div=soup.find_all(class_=\"links footer-links\")\n",
    "div=str(div)\n",
    "div2=div[13:31]\n",
    "div2"
   ]
  },
  {
   "cell_type": "code",
   "execution_count": 62,
   "metadata": {},
   "outputs": [
    {
     "output_type": "execute_result",
     "data": {
      "text/plain": "['https://pagina1.xyz/',\n 'https://pagina2.xyz/',\n 'https://pagina3.xyz/',\n 'https://pagina4.xyz/',\n 'https://pagina5.xyz/',\n <p>Este es el segundo párrafo</p>,\n <p>Este párrafo está en el footer</p>]"
     },
     "metadata": {},
     "execution_count": 62
    }
   ],
   "source": [
    "values=Lst_url+parraf2\n",
    "values"
   ]
  },
  {
   "cell_type": "code",
   "execution_count": 63,
   "metadata": {},
   "outputs": [
    {
     "output_type": "execute_result",
     "data": {
      "text/plain": "<p>Este es el segundo párrafo</p>"
     },
     "metadata": {},
     "execution_count": 63
    }
   ],
   "source": [
    "values1=(values[5])\n",
    "values1"
   ]
  },
  {
   "cell_type": "code",
   "execution_count": 64,
   "metadata": {},
   "outputs": [
    {
     "output_type": "execute_result",
     "data": {
      "text/plain": "'https://pagina1.xyz/'"
     },
     "metadata": {},
     "execution_count": 64
    }
   ],
   "source": [
    "values2=values[0]\n",
    "values2"
   ]
  },
  {
   "cell_type": "code",
   "execution_count": 65,
   "metadata": {},
   "outputs": [
    {
     "output_type": "execute_result",
     "data": {
      "text/plain": "'https://pagina4.xyz/'"
     },
     "metadata": {},
     "execution_count": 65
    }
   ],
   "source": [
    "values3=values[3]\n",
    "values3"
   ]
  },
  {
   "cell_type": "code",
   "execution_count": 66,
   "metadata": {},
   "outputs": [
    {
     "output_type": "execute_result",
     "data": {
      "text/plain": "'https://pagina5.xyz/'"
     },
     "metadata": {},
     "execution_count": 66
    }
   ],
   "source": [
    "values4=values[4]\n",
    "values4"
   ]
  },
  {
   "cell_type": "code",
   "execution_count": 67,
   "metadata": {},
   "outputs": [
    {
     "output_type": "execute_result",
     "data": {
      "text/plain": "<p>Este párrafo está en el footer</p>"
     },
     "metadata": {},
     "execution_count": 67
    }
   ],
   "source": [
    "values5=(values[6])\n",
    "values5"
   ]
  },
  {
   "cell_type": "code",
   "execution_count": 68,
   "metadata": {},
   "outputs": [
    {
     "output_type": "execute_result",
     "data": {
      "text/plain": "bs4.element.Tag"
     },
     "metadata": {},
     "execution_count": 68
    }
   ],
   "source": [
    "type(values5)"
   ]
  },
  {
   "cell_type": "code",
   "execution_count": 69,
   "metadata": {},
   "outputs": [
    {
     "output_type": "execute_result",
     "data": {
      "text/plain": "[<p>Este es el segundo párrafo</p>,\n 'https://pagina1.xyz/',\n 'https://pagina4.xyz/',\n 'https://pagina5.xyz/',\n 'links footer-links',\n <p>Este párrafo está en el footer</p>]"
     },
     "metadata": {},
     "execution_count": 69
    }
   ],
   "source": [
    "total_values=[values[5]]+[values[0]]+[values[3]]+[values[4]]+[div2]+[values5]\n",
    "total_values"
   ]
  },
  {
   "cell_type": "code",
   "execution_count": 70,
   "metadata": {
    "tags": []
   },
   "outputs": [
    {
     "output_type": "stream",
     "name": "stdout",
     "text": "['Página de prueba', 'Página de prueba', 'Página de prueba', 'Página de prueba', 'Página de prueba', 'Página de prueba']\n['main', 'Nan', 'Nan', 'Nan', 'footer', 'footer']\n['p', 'a', 'a', 'a', 'div', 'p']\n[<p>Este es el segundo párrafo</p>, 'https://pagina1.xyz/', 'https://pagina4.xyz/', 'https://pagina5.xyz/', 'links footer-links', <p>Este párrafo está en el footer</p>]\n"
    }
   ],
   "source": [
    "print(title_lista1)\n",
    "print(ID)\n",
    "print(tag)\n",
    "print(total_values)"
   ]
  },
  {
   "cell_type": "code",
   "execution_count": 71,
   "metadata": {},
   "outputs": [
    {
     "output_type": "execute_result",
     "data": {
      "text/plain": "               col1    col2 col3                              col4\n0  Página de prueba    main    p      [Este es el segundo párrafo]\n1  Página de prueba     Nan    a              https://pagina1.xyz/\n2  Página de prueba     Nan    a              https://pagina4.xyz/\n3  Página de prueba     Nan    a              https://pagina5.xyz/\n4  Página de prueba  footer  div                links footer-links\n5  Página de prueba  footer    p  [Este párrafo está en el footer]",
      "text/html": "<div>\n<style scoped>\n    .dataframe tbody tr th:only-of-type {\n        vertical-align: middle;\n    }\n\n    .dataframe tbody tr th {\n        vertical-align: top;\n    }\n\n    .dataframe thead th {\n        text-align: right;\n    }\n</style>\n<table border=\"1\" class=\"dataframe\">\n  <thead>\n    <tr style=\"text-align: right;\">\n      <th></th>\n      <th>col1</th>\n      <th>col2</th>\n      <th>col3</th>\n      <th>col4</th>\n    </tr>\n  </thead>\n  <tbody>\n    <tr>\n      <th>0</th>\n      <td>Página de prueba</td>\n      <td>main</td>\n      <td>p</td>\n      <td>[Este es el segundo párrafo]</td>\n    </tr>\n    <tr>\n      <th>1</th>\n      <td>Página de prueba</td>\n      <td>Nan</td>\n      <td>a</td>\n      <td>https://pagina1.xyz/</td>\n    </tr>\n    <tr>\n      <th>2</th>\n      <td>Página de prueba</td>\n      <td>Nan</td>\n      <td>a</td>\n      <td>https://pagina4.xyz/</td>\n    </tr>\n    <tr>\n      <th>3</th>\n      <td>Página de prueba</td>\n      <td>Nan</td>\n      <td>a</td>\n      <td>https://pagina5.xyz/</td>\n    </tr>\n    <tr>\n      <th>4</th>\n      <td>Página de prueba</td>\n      <td>footer</td>\n      <td>div</td>\n      <td>links footer-links</td>\n    </tr>\n    <tr>\n      <th>5</th>\n      <td>Página de prueba</td>\n      <td>footer</td>\n      <td>p</td>\n      <td>[Este párrafo está en el footer]</td>\n    </tr>\n  </tbody>\n</table>\n</div>"
     },
     "metadata": {},
     "execution_count": 71
    }
   ],
   "source": [
    "data={\"col1\": title_lista1,\"col2\":ID,\"col3\":tag,\"col4\":total_values,\n",
    "}\n",
    "df=pd.DataFrame(data)\n",
    "df"
   ]
  },
  {
   "cell_type": "code",
   "execution_count": 72,
   "metadata": {},
   "outputs": [
    {
     "output_type": "execute_result",
     "data": {
      "text/plain": "              Title      ID Tags                            Values\n0  Página de prueba    main    p      [Este es el segundo párrafo]\n1  Página de prueba     Nan    a              https://pagina1.xyz/\n2  Página de prueba     Nan    a              https://pagina4.xyz/\n3  Página de prueba     Nan    a              https://pagina5.xyz/\n4  Página de prueba  footer  div                links footer-links\n5  Página de prueba  footer    p  [Este párrafo está en el footer]",
      "text/html": "<div>\n<style scoped>\n    .dataframe tbody tr th:only-of-type {\n        vertical-align: middle;\n    }\n\n    .dataframe tbody tr th {\n        vertical-align: top;\n    }\n\n    .dataframe thead th {\n        text-align: right;\n    }\n</style>\n<table border=\"1\" class=\"dataframe\">\n  <thead>\n    <tr style=\"text-align: right;\">\n      <th></th>\n      <th>Title</th>\n      <th>ID</th>\n      <th>Tags</th>\n      <th>Values</th>\n    </tr>\n  </thead>\n  <tbody>\n    <tr>\n      <th>0</th>\n      <td>Página de prueba</td>\n      <td>main</td>\n      <td>p</td>\n      <td>[Este es el segundo párrafo]</td>\n    </tr>\n    <tr>\n      <th>1</th>\n      <td>Página de prueba</td>\n      <td>Nan</td>\n      <td>a</td>\n      <td>https://pagina1.xyz/</td>\n    </tr>\n    <tr>\n      <th>2</th>\n      <td>Página de prueba</td>\n      <td>Nan</td>\n      <td>a</td>\n      <td>https://pagina4.xyz/</td>\n    </tr>\n    <tr>\n      <th>3</th>\n      <td>Página de prueba</td>\n      <td>Nan</td>\n      <td>a</td>\n      <td>https://pagina5.xyz/</td>\n    </tr>\n    <tr>\n      <th>4</th>\n      <td>Página de prueba</td>\n      <td>footer</td>\n      <td>div</td>\n      <td>links footer-links</td>\n    </tr>\n    <tr>\n      <th>5</th>\n      <td>Página de prueba</td>\n      <td>footer</td>\n      <td>p</td>\n      <td>[Este párrafo está en el footer]</td>\n    </tr>\n  </tbody>\n</table>\n</div>"
     },
     "metadata": {},
     "execution_count": 72
    }
   ],
   "source": [
    "df.columns = [\"Title\",\"ID\",\"Tags\",\"Values\"]\n",
    "df"
   ]
  },
  {
   "cell_type": "markdown",
   "metadata": {},
   "source": [
    "### 2. From Amazon\n",
    "\n",
    "*Using  beautiful soap and/or regex*\n",
    "\n",
    "Save in a dataframe the next information using web scraping. Using product pages from Amazon, do the following: \n",
    "\n",
    "- Get the product name from the web and save it in a column called \"item_name\"\n",
    "- Get the price from the web and save it in a column called \"item_price\"\n",
    "\n",
    "While you are doing the exercise, document the steps you are doing. Try to do the program for generic pages. If you cannot do it generic, explain the reasons. \n",
    "\n",
    "-------------------------------\n",
    "\n",
    "**Example:** \n",
    "\n",
    "url = https://www.amazon.es/Tommy-Hilfiger-UM0UM00054-Camiseta-Hombre/dp/B01MYD0T1F/ref=sr_1_1?dchild=1&pf_rd_p=58224bec-cac9-4dd2-a42a-61b1db609c2d&pf_rd_r=VZQ1JTQXFVRZ9E9VSKX4&qid=1595364419&s=apparel&sr=1-1\n",
    "\n",
    "*item_name* --> \"Tommy Hilfiger Logo Camiseta de Cuello Redondo,Perfecta para El Tiempo Libre para Hombre\"\n",
    "\n",
    "*item_price* --> [[18,99 € - 46,59 €]] or one of the options.\n",
    "\n",
    "\n"
   ]
  },
  {
   "cell_type": "code",
   "execution_count": 73,
   "metadata": {},
   "outputs": [],
   "source": [
    "import requests\n",
    "from bs4 import BeautifulSoup\n",
    "import pandas as pd\n",
    "import smtplib"
   ]
  },
  {
   "cell_type": "code",
   "execution_count": 74,
   "metadata": {},
   "outputs": [],
   "source": [
    "def show_html(html_str):\n",
    "    print(BeautifulSoup(str(html_str), 'html.parser').prettify())  #Esta función muestra por pantalla el código html de una web de forma estructurada. "
   ]
  },
  {
   "cell_type": "code",
   "execution_count": 75,
   "metadata": {
    "tags": [
     "outputPrepend"
    ]
   },
   "outputs": [
    {
     "output_type": "stream",
     "name": "stdout",
     "text": "     \n\n\n\n4,6 de un máximo de 5 estrellas\n\n168\n\n28,85 € - 39,95 € \n\n\n\n\n\n            Tommy Hilfiger Core Stretch Slim Cneck tee Camiseta para Hombre\n        \n\n\n\n4,4 de un máximo de 5 estrellas\n\n1.400\n\n24,85 € - 45,00 € \n\n\nSiguiente\n\n\n\n\n\n\n\n\n\n\n\n\n\n\n\n¿Qué otros productos compran los clientes tras ver este producto?Página 1 de 1 Volver al inicioPágina 1 de 1  \nEsta función de compra continuará cargando productos cuando se presione la tecla Intro. Para navegar fuera de este carrusel, usa tu tecla de acceso rápido de encabezados para navegar hacia el encabezado siguiente o anterior.\nAtrás\n\n\n\n\n            Pepe Jeans Original Stretch Camiseta para Hombre\n        \n\n\n\n4,1 de un máximo de 5 estrellas\n\n373\n\n14,99 € - 25,00 € \n\n\n\n\n\n            Jack &amp; Jones Jjecorp Logo tee SS Crew Neck Noos Camiseta para Hombre\n        \n\n\n\n4,6 de un máximo de 5 estrellas\n\n5.005\n\n8,40 € - 26,98 € \n\n\n\n\n\n            Levi's Relaxed Graphic tee Camiseta para Hombre\n        \n\n\n\n4,3 de un máximo de 5 estrellas\n\n186\n\n13,99 € - 43,08 € \n\n\n\n\n\n            Tommy Hilfiger RN tee SS Camiseta para Hombre\n        \n\n\n\n4,5 de un máximo de 5 estrellas\n\n148\n\n19,95 € - 41,46 € \n\n\n\n\n\n            Levi's Sportswear Logo Graphic - Camiseta para Hombre\n        \n\n\n\n4,5 de un máximo de 5 estrellas\n\n1.430\n\n10,99 € - 47,89 € \n\n\n\n\n\n            Levi's Housemark Graphic tee Camiseta para Hombre\n        \n\n\n\n4,5 de un máximo de 5 estrellas\n\n1.478\n\n14,50 € - 47,89 € \n\n\nSiguiente\n\n\n\n\n\n\n\n\n\n\n\n\n\n\n\n\n\n\n\n\n\nDescripción del producto\n\n\n\n\nDe Tommy Hilfiger viene la camiseta con el logo arqueado en color azul marino, con un logo en el pecho y en la manga izquierda. Con un diseño sencillo, esta camiseta tiene cuello redondo y manga corta.\n\n\n\n\n\n\n\n\n\n\n\n\n\n\n\n\nMás información del producto\n\n\n\n\n\n\n\n\n\n\n\n\n\n\n\n\n\n\nLeer más\n\n\n\n\n\n\n        TOMMY HILFIGER\n    \n\n\n\n        ESTILO DESENFADADO MODERNO, CONFIADO Y RELAJADO\n    \n\nTommy Hilfiger celebra la esencia del clásico look Americano con un toque de estilo. Descubre los últimos estilos en ropa, zapatos, bolsos y accesorios para mujeres y hombres. ¿Quieres ir de compras para un evento glamoroso, casual o para una gran noche? Tommy Hilfiger para hombres y mujeres lo tiene todo.\n        \n\n\n\n\n\n\nTommy Hilfiger Men's Tops\n\n\n\n\n\n\n\n\n\n\n\n\n\n\n\n\n\n\n\n\n\n\n\n\n\n\n\n\n\n\n\n\n\n\n\n\n\nShort Sleeve Logo Tee\n\n\n\n\nCore Stretch Slim Oxford Shirt \n\n\n\n\nCore Hilfiger Regular Polo Shirt \n\n\n\n\nCotton Icon Short Sleeve Sports Shirt \n\n\n\n\n\n\nMaterial Composition\n\n\n\n\n100% Cotton \n\n\n\n\n98% Cotton, 2% Elastane \n\n\n\n\n100% Cotton \n\n\n\n\n100% Cotton \n\n\n\n\n\n\nFit\n\n\n\n\nRegular Fit \n\n\n\n\nSlim Fit\n\n\n\n\nRegular Fit \n\n\n\n\nRegular Fit \n\n\n\n\n\n\nCollar\n\n\n\n\nClub Collar\n\n\n\n\nButton-Down\n\n\n\n\nPolo\n\n\n\n\nCrew Neck \n\n\n\n\n\n\n\n\n\n\n\n\n\n\n\n\n\n\n\n\n\n\n\n\n\n\n\n\n\n\nDetalles del producto\n\n\nNúmero de modelo del producto: UM0UM00054\nASIN: B01N4M8EZI\n Producto en Amazon.es desde: 3 de febrero de 2017\nOpiniones de los clientes: 4,3 de 5 estrellas1.074 valoraciones de clientes\n\n\nClasificación en los más vendidos de Amazon: \n\n\n\n\n\n\n\n\n\n\n\n\n\nnº8 en Ropa (Ver el Top 100 en Ropa)\n \n\n\n\n\n\n\n\n\nn.° 1\nen Camisetas de pijama para hombre\n\n\n\nWould you like to tell us about a lower price?\n\n\n\n\n\n\n\n\n\n\n\n\n\n\n\n\n\n\n\n\n\n\n\n\n\n\nThis form is not active. It will not be visible to external customers unless it is active.\n\n\n\n\nThis is an internal only form.\n\n\n\n\n\n\n\n\n\n\n\n\n\n\n        Lo sentimos\n      \n\n\n          Este formulario ya no está disponible.\n        \n\n\n\n\n\n\n\n\n\n\n\n\n\n        Lo sentimos\n      \n\n\n          Este formulario ya no está disponible.\n        \n\n\n\n\n\n\n\n\n\n\n\n\n\n\n\n\n\n\n\n\n\n\n\n            Preguntas y respuestas de los clientes\n        \n\nVer preguntas y respuestas\n\n\n\n\n\n\n\n\n\n\n\n\n\n\n\n\nOpiniones de clientes4,3 de 5 estrellas4,3 de 5\n            1.074 valoraciones de clientes\n\n\n\n\n\n\n            5 estrellas\n          \n\n\n\n\n\n\n\n\n\n\n\n\n            \n              67%\n            \n          \n\n\n\n\n\n\n\n            4 estrellas\n          \n\n\n\n\n\n\n\n\n\n\n\n\n            \n              15%\n            \n          \n\n\n\n\n\n\n\n            3 estrellas\n          \n\n\n\n\n\n\n\n\n\n\n\n\n            \n              9%\n            \n          \n\n\n\n\n\n\n\n            2 estrellas\n          \n\n\n\n\n\n\n\n\n\n\n\n\n            \n              3%\n            \n          \n\n\n\n\n\n\n\n            1 estrella\n          \n\n\n\n\n\n\n\n\n\n\n\n\n            \n              6%\n            \n          \n\n\n\n\n¿Cómo calcula Amazon las valoraciones?Amazon calcula las valoraciones de un producto utilizando un modelo de programación de máquina en lugar de un modelo de media de datos sin procesar. El modelo de máquina tiene en cuenta factores como, por ejemplo, la antigüedad de la reseña, la utilidad de los votos de los clientes y si las reseñas son de compras verificadas.\n\n\n\n\n\n\n\n\n\n\n\n        Reseñas más importantes\n      \n\n        Más recientes\n      \nReseñas más importantes\n\n\n\nHa surgido un problema al filtrar las opiniones justo en este momento. Vuelva a intentarlo en otro momento.RAW1,0 de 5 estrellas\nNo recomendable\nRevisado en España el 13 de mayo de 2020Tamaño: XLColor: Blanco (White)Compra verificada\nLa camiseta queda extremadamente pequeña y muy ceñida y eso que es una XL mido 1,82 peso 79 kl material se ve de calidad y muy bonita pero las costuras del hombro son algo extrañas y muy decepcionado con la talla para ser XL me queda como una M, de largo del busto bien pero muy muy estrecha Las mangas bien cuello correcto pero hombros mal quedan como si llevaras hombreras cintura muy mal muy ceñida estrecha la camiseta es para personas en los huesos el envío de la camiseta muy rápidos tengo otras prendas de esta Marca como camisa o sudadera y las tallas son correctas no entiendo las medidas de esta camiseta la verdad.\nLeer más\nA 3 personas les ha parecido esto útil\n\n          Útil\n\n\nComentar\nInformar de un abuso\nAndi5,0 de 5 estrellas\nMe encanta esta camiseta\nRevisado en España el 10 de junio de 2020Tamaño: MColor: Blanco (White)Compra verificada\nEl logo me gusta mucho, por ello, que sea toda tan \"limpia\" y sencilla destacando el logo, me gusta mucho. Además, TH es de las mejores en calidad de ropa, se nota buena calidad del material. Muy buena compra. Precio imbatible (al que yo compré).\nLeer más\nA una persona le ha parecido esto útil\n\n          Útil\n\n\nComentar\nInformar de un abuso\nAmparo5,0 de 5 estrellas\nMuy bonita pero un poco pequeña\nRevisado en España el 27 de septiembre de 2019Tamaño: XLColor: Azul (Navy Blazer)Compra verificada\nLa camiseta está muy bien pero talla un poco pequeña, compré varias de otras marcas y esta es la única que he tenido que cambiar por una talla mas.Recomiendo una talla más de la habitual.\nLeer más\nA 2 personas les ha parecido esto útil\n\n          Útil\n\n\nComentar\nInformar de un abuso\nYavWar4,0 de 5 estrellas\nEstá bien\nRevisado en España el 9 de julio de 2019Tamaño: MColor: Gris (Grey Heather)Compra verificada\nCompré esta camiseta para un regalo. El modelo como tal es bonito y no ha salido mal de precio (24 €). La calidad es normalita, nada diferente a cualquier camiseta de algodón que puedas adquirir por precios inferiores; creo que al final acabas pagando la marca ... La talla M correcta, sienta bien.\nLeer más\nA una persona le ha parecido esto útil\n\n          Útil\n\n\nComentar\nInformar de un abuso\nAmidala6665,0 de 5 estrellas\nMuy buena compra\nRevisado en España el 11 de abril de 2019Tamaño: XLColor: Azul (Navy Blazer)Compra verificada\nÉsta camiseta si q es preciosa d diez. La talla es calcada a la q normalmente se usa, es d algodón una tela hermosa no marca tan excesivamente como si fuera poliéster queda fenomenal. La recomiendo es tal cual la foto\nLeer más\nA 2 personas les ha parecido esto útil\n\n          Útil\n\n\nComentar\nInformar de un abuso\nCeleste5,0 de 5 estrellas\nLa recomendo 100% acierto seguro\nRevisado en España el 8 de enero de 2019Tamaño: MColor: Azul (Navy Blazer)Compra verificada\nSe la compré a mi novio, le cogí la talla M que es la que usa siempre en todas las camisetas y le queda perfecta. El estampado y la tela está como el primer día y tiene ya muchos lavados. La recomiendo 100%\nLeer más\nA 3 personas les ha parecido esto útil\n\n          Útil\n\n\nComentar\nInformar de un abuso\nMercedes3,0 de 5 estrellas\nComo en la foto\nRevisado en España el 13 de marzo de 2019Tamaño: SColor: Gris (Grey Heather)Compra verificada\nLa calidad del algodón se ve que es de calidad aunque no he realizado ningún lavado por lo que no sé si se deforma o no. La talla es europea por lo que queda como esperaba.\nLeer más\nA una persona le ha parecido esto útil\n\n          Útil\n\n\nComentar\nInformar de un abuso\nAlbert3,0 de 5 estrellas\nTalla un poco más grande de lo que debería\nRevisado en España el 16 de abril de 2018Compra verificada\nLa talla es un poco más grande de lo que debería ser. La camiseta estaba bien, pero claro, si no te va bien...\nLeer más\nA 3 personas les ha parecido esto útil\n\n          Útil\n\n\nComentar\nInformar de un abuso\nVer todas las reseñas de España\n\n\n\n\n\n\n      \n        \n        \n          Las mejores reseñas internacionales\n        \n      \n    \n\n\nTraducir todas las reseñas al Español\n\n\n\n\n\n\n\n\n\n\nJoshua D.2,0 de 5 estrellas\nStrange fit\nRevisado en Reino Unido el 16 de febrero de 2019Tamaño: LColor: Gris (Grey Heather)Compra verificada\nI ordered a size up but found it still was a really small fit. The chest was spot on, however the sleeves almost made it look like a vest. I would definitely order perhaps 2 sizes up.The material is very light and clings to skin, unlike my other Tommy T-shirts.The neck is also not very tight at all.Not my favourite Tommy Product.\nLeer más\nA 8 personas les ha parecido esto útil\n\n            Útil\n\nEnviando comentario...Gracias por su comentario.Lo sentimos, no hemos podido registrar tu voto. Vuelva a intentarlo\n\nInformar de un abuso\nTraducir reseña a Español\n\n\n\n\njeffro 1,0 de 5 estrellas\nXL  no a medium size at best\nRevisado en Reino Unido el 12 de abril de 2020Tamaño: XLColor: Azul (Navy Blazer)Compra verificada\nI'm speechless this XL is more like a MThink carefully before you buyI now have to go through the hassle of returning..I took a photo of it against the backdrop of a normal XL must be be rejects no doubt last years may have been corre t size but these aren't8 days later since i posted still waiting for my refund.. avoid !!!\nLeer más\n\n\n\n\n\nA 2 personas les ha parecido esto útil\n\n            Útil\n\nEnviando comentario...Gracias por su comentario.Lo sentimos, no hemos podido registrar tu voto. Vuelva a intentarlo\n\nInformar de un abuso\nTraducir reseña a Español\n\n\n\n\nBobby1,0 de 5 estrellas\nFar too small\nRevisado en Reino Unido el 22 de marzo de 2019Tamaño: XLColor: Azul (Navy Blazer)Compra verificada\nI'm. A big lad not fat big and I bought xl it was like a medium. Sticking like hanging on for dear life.Not great quality either\nLeer más\nA 5 personas les ha parecido esto útil\n\n            Útil\n\nEnviando comentario...Gracias por su comentario.Lo sentimos, no hemos podido registrar tu voto. Vuelva a intentarlo\n\nInformar de un abuso\nTraducir reseña a Español\n\n\n\n\nCliente Amazon2,0 de 5 estrellas\nvestibilità!!!!\nRevisado en Italia el 12 de mayo de 2019Tamaño: XLColor: Gris (Grey Heather)Compra verificada\nnon riesco a capire se ho ricevuto una t-shirt fallata o è fatta proprio cosi!!!! praticamente bisogna avere le spalle di Rambo e la vita di Roberto Bolle!!!! il tessuto certo è ottimo,ma la vestibilità mi sembra molto discutibile!!!!\nLeer más\nA 18 personas les ha parecido esto útil\n\n            Útil\n\nEnviando comentario...Gracias por su comentario.Lo sentimos, no hemos podido registrar tu voto. Vuelva a intentarlo\n\nInformar de un abuso\nTraducir reseña a Español\n\n\n\n\nScarllette Tyler5,0 de 5 estrellas\nQuality value 100% authentic soft material better than expect\nRevisado en Reino Unido el 10 de abril de 2020Tamaño: XLColor: Azul (Navy Blazer)Compra verificada\nQUALITY T-shirt LOVE 💙😁IT 5★★★★★Value too so soft &amp; the price point wow i wasn't expecting it to be so nice &amp; as decent to be honest but its pleasantly surprised me cheers Amazon take all my money im addicted lol\nLeer más\nA una persona le ha parecido esto útil\n\n            Útil\n\nEnviando comentario...Gracias por su comentario.Lo sentimos, no hemos podido registrar tu voto. Vuelva a intentarlo\n\nInformar de un abuso\nTraducir reseña a EspañolCargar más reseñas internacionales\n\n\n\n\nIch weiß was5,0 de 5 estrellas\nso schön, dass wir gleich nachbestellt haben\nRevisado en Alemania el 20 de junio de 2019Tamaño: SColor: Gris (Grey Heather)Compra verificada\nDas erste bestellte Hilfiger T-Shirt hat uns so gut gefallen, dass wir gleich noch weitere auch in anderer Farbe nachbestellt haben. Sie passen mir, wie auch unseren Teenagern perfekt. Angenehmer leichter Stoff, der auch sehr gut verarbeitet wurde. Der Hilfiger Schriftzug ist bei dem grauen T-Shirt etwas feiner (dünner gummiert) wie bei dem blauen. Wegen dem Schriftzug nur auf links und bis 30° waschen.Schicke T-Shirts in denen man sich wohlfühlen kann.Wir sind mit dem Kauf und der Qualität sehr zufrieden.\nLeer más\n\n\n\n\n\nA 15 personas les ha parecido esto útil\n\n            Útil\n\nEnviando comentario...Gracias por su comentario.Lo sentimos, no hemos podido registrar tu voto. Vuelva a intentarlo\n\nInformar de un abuso\nTraducir reseña a Español\n\n\n\n\nBaz1,0 de 5 estrellas\nCheap tshirt with a logo\nRevisado en Reino Unido el 28 de octubre de 2019Tamaño: MColor: Azul (Navy Blazer)Compra verificada\nIt's a cheap couple of pounds tshirt with a logo on the front. Not even an attempt to use a quality tshirt. Your paying for the name. Pound shop tshirt. Thin and see through if held to the light. Buy it if you have plenty money to throw away.\nLeer más\nA una persona le ha parecido esto útil\n\n            Útil\n\nEnviando comentario...Gracias por su comentario.Lo sentimos, no hemos podido registrar tu voto. Vuelva a intentarlo\n\nInformar de un abuso\nTraducir reseña a Español\n\n\n\n\nmichael stephenson4,0 de 5 estrellas\nlovely shirt\nRevisado en Reino Unido el 10 de septiembre de 2019Tamaño: XLColor: Gris (Grey Heather)Compra verificada\nnice but too tight. strange how same alleged sizes are all different. have to wait till Im slimmer for it to fit\nLeer más\nA una persona le ha parecido esto útil\n\n            Útil\n\nEnviando comentario...Gracias por su comentario.Lo sentimos, no hemos podido registrar tu voto. Vuelva a intentarlo\n\nInformar de un abuso\nTraducir reseña a Español\n\n\n\n\nDuarte C.5,0 de 5 estrellas\nFits really well\nRevisado en Reino Unido el 20 de abril de 2020Tamaño: LColor: Azul (Navy Blazer)Compra verificada\nI was a bit sceptical because of all the reviews that say it's too small but ended up ordering my usual size anyway.In my case, the t-shirt fits really well just like all my other ones.\nLeer más\n\n\n            Útil\n\nEnviando comentario...Gracias por su comentario.Lo sentimos, no hemos podido registrar tu voto. Vuelva a intentarlo\n\nInformar de un abuso\nTraducir reseña a Español\n\n\n\n\nSaffy4,0 de 5 estrellas\nNice tee shirt\nRevisado en Reino Unido el 4 de mayo de 2020Tamaño: MColor: Azul (Navy Blazer)Compra verificada\nThis is a nice t-shirt and the material was pretty good. The size was slightly smaller than expected for a medium if you prefer to have a tad loose fit.\nLeer más\n\n\n            Útil\n\nEnviando comentario...Gracias por su comentario.Lo sentimos, no hemos podido registrar tu voto. Vuelva a intentarlo\n\nInformar de un abuso\nTraducir reseña a EspañolCargar más reseñas internacionales\n\n\n\n\nrozita russell5,0 de 5 estrellas\nA bargain and good quality\nRevisado en Reino Unido el 27 de septiembre de 2019Tamaño: MColor: Azul (Navy Blazer)Compra verificada\nThis shirt arrived early which is always nice. Great quality and fit. I couldn't believe the price as 1/2 the price of local shops.My son loves it and i am ordering more in different colours\nLeer más\n\n\n            Útil\n\nEnviando comentario...Gracias por su comentario.Lo sentimos, no hemos podido registrar tu voto. Vuelva a intentarlo\n\nInformar de un abuso\nTraducir reseña a Español\n\n\n\n\nN Thammanna1,0 de 5 estrellas\nStupidly small\nRevisado en Reino Unido el 23 de abril de 2020Tamaño: XLColor: Azul (Navy Blazer)Compra verificada\nI agree with the last few reviews. The XL fits like a medium. The sleeves are tight. The material is thin. I won’t be wearing this in public\nLeer más\n\n\n            Útil\n\nEnviando comentario...Gracias por su comentario.Lo sentimos, no hemos podido registrar tu voto. Vuelva a intentarlo\n\nInformar de un abuso\nTraducir reseña a Español\n\n\n\n\nMaester F1,0 de 5 estrellas\nPoor. Wouldn’t recommend.\nRevisado en Reino Unido el 26 de abril de 2020Tamaño: LColor: Azul (Navy Blazer)Compra verificada\nI assume this is genuine but quality is basic and sizing is completely wrong. Bought a Large and it’s more like a small/medium.\nLeer más\n\n\n            Útil\n\nEnviando comentario...Gracias por su comentario.Lo sentimos, no hemos podido registrar tu voto. Vuelva a intentarlo\n\nInformar de un abuso\nTraducir reseña a Español\n\n\n\n\nAjess5,0 de 5 estrellas\nGreat T-shirt\nRevisado en Reino Unido el 9 de junio de 2019Tamaño: LColor: Blanco (White)Compra verificada\nGreat Tommy Hilfiger t shirt. It sits really well and you can feel the quality. It was delivered fast and had already become one of my favourite T-shirt’s\nLeer más\n\n\n            Útil\n\nEnviando comentario...Gracias por su comentario.Lo sentimos, no hemos podido registrar tu voto. Vuelva a intentarlo\n\nInformar de un abuso\nTraducir reseña a Español\n\n\n\n\nMS EMMA J BARNES5,0 de 5 estrellas\nSize up x2\nRevisado en Reino Unido el 30 de abril de 2020Tamaño: LColor: Azul (Navy Blazer)Compra verificada\nI brought a large which equates to a small really for my 12 year old. He loves it the t-shirt is good quality I only paid £7.99 sonot complaining.\nLeer más\n\n\n            Útil\n\nEnviando comentario...Gracias por su comentario.Lo sentimos, no hemos podido registrar tu voto. Vuelva a intentarlo\n\nInformar de un abuso\nTraducir reseña a EspañolHas leído las mejores opiniones internacionalesVer todas las reseñas de España\n\n\n\n\n\n\n\n\n\n\n\n\n\n\n\n\n\n\n\n\n\n\n\n\n\n Amazon Prime: envíos rápidos, GRATIS e ilimitados y mucho más \n Los clientes de Amazon Prime disfrutan de Envío en 1 día GRATIS en dos millones de productos y Envío en 2 o 3 días en millones de productos más, Acceso a series y películas en Prime Video, incluyendo las series Amazon Originals, más de 2 millones de canciones y cientos de listas de reproducción sin publicidad con Prime Music, cientos de eBooks en Prime Reading, Acceso Prioritario a las Ofertas flash y Almacenamiento de fotos gratis e ilimitado en Amazon Drive. \n\n      &gt;\n      Más información\n\n\n\n\n\n\n\n\n\n\nHay un problema para cargar este menú.\nMás información sobre Amazon Prime.\n\n\n\n\n\n\n\n\n\n\n\n\n\n\n\nVolver arriba\nConócenosTrabajar en AmazonSobre Amazon.esSostenibilidadGana dinero con nosotrosVender en AmazonVender como Amazon AcceleratorVender en Amazon BusinessVende en Amazon HandmadePrograma de afiliadosLogística de AmazonPromociona tus productosPublica tu libro en KindleAmazon PayMétodos de pago AmazonMétodos de pagoConversor de divisas de AmazonCheques RegaloRecarga onlineRecarga en tienda¿Necesitas ayuda?Amazon y COVID-19Localizar o gestionar comprasTarifas y políticas de envíoAmazon PrimeDevolver o reemplazar productosReciclajeGestionar contenido y dispositivosApp AmazonAmazon AssistantAtención al ClienteIVA sobre los bienes\n\n\nAustraliaAlemaniaBrasilCanadáChinaEstados UnidosFranciaIndiaItaliaJapónMéxicoPaíses BajosEmiratos Árabes UnidosReino UnidoSingapurTurquía\n\nAmazon Music Transmite millones de canciones\n\nIberLibro Libros, arte &amp; artículos de colección\n\nAmazon Web Services Servicios Cloud Computing de Amazon\n\nBook Depository Libros con entrega gratis en todo el mundo\n\nKindle Direct Publishing Publica tu libro en papel y digital de manera independiente\n\n \n\nPrime Now Entrega en 1 hora En miles de productos\n\nProductos Reacondicionados Precios bajos en productos revisados por Amazon\n\nShopbop Marcas de moda de diseño \n\nAmazon Business Servicio para clientes de empresa\n\nAmazon Second Chance Donar, intercambiar, dar una segunda vida\n\n\nCondiciones de Uso y VentaAviso de privacidadÁrea legalCookiesPublicidad basada en intereses© 1996-2020, Amazon.com, Inc. o afiliados. Todos los derechos reservados.\n\n"
    }
   ],
   "source": [
    "url = \"https://www.amazon.es/Tommy-Hilfiger-UM0UM00054-Camiseta-Hombre/dp/B01MYD0T1F/ref=sr_1_1?dchild=1&pf_rd_p=58224bec-cac9-4dd2-a42a-61b1db609c2d&pf_rd_r=VZQ1JTQXFVRZ9E9VSKX4&qid=1595364419&s=apparel&sr=1-1\"\n",
    "\n",
    "def get_page_contents(url):\n",
    "    page = requests.get(url, headers={\"Accept-Language\": \"en-US\"})\n",
    "    return BeautifulSoup(page.text, \"html.parser\")\n",
    "soup = get_page_contents(url)\n",
    "show_html(soup.text)\n",
    "\n",
    "#Con requests hago la petición de la url de una web y a continuación transformo esa página a beautifulsoup y lo almacenamos en una variable que hemos llamado soup pero que podemos llamar como queramos. "
   ]
  },
  {
   "cell_type": "code",
   "execution_count": 76,
   "metadata": {},
   "outputs": [
    {
     "output_type": "execute_result",
     "data": {
      "text/plain": "bs4.BeautifulSoup"
     },
     "metadata": {},
     "execution_count": 76
    }
   ],
   "source": [
    "type(soup)"
   ]
  },
  {
   "cell_type": "code",
   "execution_count": 77,
   "metadata": {
    "tags": [
     "outputPrepend"
    ]
   },
   "outputs": [
    {
     "output_type": "stream",
     "name": "stdout",
     "text": "0,38,50_.jpg\" style=\"height:50px; width:38px\"/>\n               </div>\n               <div class=\"\" style=\"\">\n               </div>\n              </div>\n              <a href=\"/dp/B01N6NR7N6/ref=twister_B01N4M8EZI\" style=\"height:100%; width:100%\">\n              </a>\n             </button>\n            </span>\n           </span>\n          </span>\n         </div>\n        </span>\n       </li>\n       <li class=\"swatchAvailable\" data-defaultasin=\"B071R7QM75\" data-dp-url=\"/dp/B071R7QM75/ref=twister_B01N4M8EZI\" id=\"color_name_4\" title=\"Haz clic para seleccionar Rosa (Tango Red)\">\n        <span class=\"a-list-item\">\n         <div class=\"tooltip\">\n          <span class=\"a-declarative\" data-action=\"swatchthumb-action\" data-swatchthumb-action='{\"dimIndex\":1,\"dimValueIndex\":4}'>\n           <span class=\"a-button a-button-thumbnail a-button-toggle\">\n            <span class=\"a-button-inner\">\n             <button class=\"a-button-text\" type=\"button\">\n              <span class=\"xoverlay\">\n              </span>\n              <div class=\"\">\n               <div class=\"\">\n                <img alt=\"Rosa (Tango Red)\" class=\"imgSwatch\" src=\"https://images-na.ssl-images-amazon.com/images/I/415oqcZc1QL._SX38_SY50_CR,0,0,38,50_.jpg\" style=\"height:50px; width:38px\"/>\n               </div>\n               <div class=\"\" style=\"\">\n               </div>\n              </div>\n              <a href=\"/dp/B071R7QM75/ref=twister_B01N4M8EZI\" style=\"height:100%; width:100%\">\n              </a>\n             </button>\n            </span>\n           </span>\n          </span>\n         </div>\n        </span>\n       </li>\n      </ul>\n     </div>\n    </form>\n   </div>\n   <div class=\"dp-cif aok-hidden\" data-feature-details='{\"name\":\"twister\",\"hasComponents\":true,\"components\":[  {\"name\": \"swatch\",\"events\":[\"hover\"]} , {\"name\": \"dropdown\",\"isInteractive\":false}]}'>\n   </div>\n   <script>\n    P.now().execute('dp-mark-twister', function () {\nvar options = {\nname: 'twister',\nhasComponents: true,\ncomponents: []\n};\n\noptions.components.push({\"name\": \"swatch\",\"events\":[\"hover\"]});\n\noptions.components.push({\"name\": \"dropdown\",\"isInteractive\":false});\n\nif (typeof window.markFeatureRender === 'function') {\nwindow.markFeatureRender('twister', options);\n}\n});\n   </script>\n  </div>\n  <div class=\"feature\" data-feature-name=\"addOnItem\" id=\"addOnItem_feature_div\">\n  </div>\n  <div class=\"feature\" data-feature-name=\"availability\" id=\"availability_feature_div\">\n  </div>\n  <div class=\"feature\" data-feature-name=\"holidayDeliveryMessage\" id=\"holidayDeliveryMessage_feature_div\">\n  </div>\n  <div class=\"feature\" data-feature-name=\"dynamicDeliveryMessage\" id=\"dynamicDeliveryMessage_feature_div\">\n   <div class=\"a-section a-spacing-mini a-spacing-top-mini\" id=\"dynamicDeliveryMessage\">\n    <div class=\"a-section a-spacing-mini\" id=\"ddmDeliveryMessage\">\n    </div>\n   </div>\n  </div>\n  <div class=\"feature\" data-feature-name=\"shipsFromSoldBy\" id=\"shipsFromSoldBy_feature_div\">\n  </div>\n  <div class=\"feature\" data-feature-name=\"andonCord\" id=\"andonCord_feature_div\">\n  </div>\n  <div class=\"feature\" data-feature-name=\"clickToContact\" id=\"clickToContact_feature_div\">\n  </div>\n  <div class=\"feature\" data-feature-name=\"valuePick\" id=\"valuePick_feature_div\">\n  </div>\n  <div class=\"feature\" data-feature-name=\"productOverview\" id=\"productOverview_feature_div\">\n  </div>\n  <div class=\"feature\" data-feature-name=\"featurebullets\" id=\"featurebullets_feature_div\">\n   <div class=\"a-section a-spacing-medium a-spacing-top-small\" id=\"feature-bullets\">\n    <ul class=\"a-unordered-list a-vertical a-spacing-mini\">\n     <li>\n      <span class=\"a-list-item\">\n       Algodón orgánico\n      </span>\n     </li>\n     <li>\n      <span class=\"a-list-item\">\n       Camiseta con la bandera de Tommy Hilfiger en el brazo y texto en el pecho\n      </span>\n     </li>\n     <li>\n      <span class=\"a-list-item\">\n       100% Algodón orgánico\n      </span>\n     </li>\n     <li>\n      <span class=\"a-list-item\">\n       Lavar a máquina - Frio (30 ° máximo)\n      </span>\n     </li>\n     <li>\n      <span class=\"a-list-item\">\n       Manga corta\n      </span>\n     </li>\n     <li>\n      <span class=\"a-list-item\">\n       Classic Fit\n      </span>\n     </li>\n     <li>\n      <span class=\"a-list-item\">\n       Multicolor\n      </span>\n     </li>\n     <li>\n      <span class=\"a-list-item\">\n       Ajuste normal\n      </span>\n     </li>\n    </ul>\n    <!--  Loading EDP related metadata -->\n   </div>\n  </div>\n  <div class=\"feature\" data-feature-name=\"edpIngress\" id=\"edpIngress_feature_div\">\n  </div>\n  <div class=\"feature\" data-feature-name=\"heroQuickPromo\" id=\"heroQuickPromo_feature_div\">\n   <div id=\"hero-quick-promo-grid_feature_div\">\n    <div class=\"a-row a-spacing-medium\" id=\"hero-quick-promo\">\n     <hr class=\"a-spacing-medium a-divider-normal\"/>\n     <div id=\"universal-hero-quick-promo\">\n      <div class=\"a-section a-spacing-none\">\n       <div class=\"a-fixed-left-grid\">\n        <div class=\"a-fixed-left-grid-inner\" style=\"padding-left:75px\">\n         <style type=\"text/css\">\n          .a-fixed-left-grid .a-fixed-left-grid-inner::after {clear:left;}\n         </style>\n         <div class=\"a-fixed-left-grid-col a-col-left\" style=\"width:75px;margin-left:-75px;float:left;\">\n          <a aria-label=\"Ofertas en marcas de moda de Amazon:\" class=\"a-link-normal\" href=\"/b?node=21761572031\">\n           <img alt=\"\" class=\"a-dynamic-image\" data-a-dynamic-image=\"{}\" height=\"75\" src=\"https://images-na.ssl-images-amazon.com/images/G/30/AMAZON-FASHION/2020/PRIVATE_LABEL/UI/DP/HQP_75X75._SS75_CB410688078_.jpg\" width=\"75\"/>\n          </a>\n         </div>\n         <div class=\"a-fixed-left-grid-col a-col-right\" style=\"padding-left:3.5%;float:left;\">\n          <div class=\"a-row\">\n           <span class=\"a-text-bold\">\n            Ofertas en marcas de moda de Amazon:\n           </span>\n          </div>\n          <div class=\"a-row\">\n           Amazon Essentials, Iris &amp; Lilly, find. y muchas más.\n           <a class=\"a-link-normal\" href=\"/b?node=21761572031\" title=\"Entra ya\">\n            Entra ya\n           </a>\n          </div>\n         </div>\n        </div>\n       </div>\n      </div>\n     </div>\n    </div>\n    <div style=\"margin-bottom:5px\">\n    </div>\n   </div>\n  </div>\n  <div class=\"feature\" data-feature-name=\"newerVersion\" id=\"newerVersion_feature_div\">\n  </div>\n  <div class=\"feature\" data-feature-name=\"productAlert\" id=\"productAlert_feature_div\">\n   <div id=\"product-alert-grid_feature_div\">\n   </div>\n  </div>\n  <div id=\"hover-zoom-end\" style=\"display:none;\">\n  </div>\n </div>\n <div class=\"a-fixed-right-grid-col a-col-right\" id=\"rightCol\" style=\"width:244px;margin-right:-244px;float:left;\">\n  <div class=\"feature\" data-feature-name=\"tellAFriendBox\" id=\"tellAFriendBox_feature_div\">\n  </div>\n  <div class=\"feature\" data-feature-name=\"desktop_buybox\" id=\"desktop_buybox\">\n   <div id=\"buybox\">\n    <div class=\"feature\" data-feature-name=\"partialStateBuyBox\" id=\"partialStateBuyBox_feature_div\">\n     <div class=\"a-section\">\n      <form action=\"/gp/product/handle-buy-box/ref=dp_start-bbf_1_glance\" class=\"a-content\" id=\"addToCart\" method=\"post\">\n       <input id=\"offerListingID\" name=\"offerListingID\" type=\"hidden\" value=\"\"/>\n       <input id=\"session-id\" name=\"session-id\" type=\"hidden\" value=\"000-0000000-0000000\"/>\n       <input id=\"ASIN\" name=\"ASIN\" type=\"hidden\" value=\"B01N4M8EZI\"/>\n       <input id=\"isMerchantExclusive\" name=\"isMerchantExclusive\" type=\"hidden\" value=\"0\"/>\n       <input id=\"merchantID\" name=\"merchantID\" type=\"hidden\" value=\"\"/>\n       <input id=\"isAddon\" name=\"isAddon\" type=\"hidden\" value=\"0\"/>\n       <input id=\"nodeID\" name=\"nodeID\" type=\"hidden\" value=\"\"/>\n       <input id=\"sellingCustomerID\" name=\"sellingCustomerID\" type=\"hidden\" value=\"\"/>\n       <input id=\"qid\" name=\"qid\" type=\"hidden\" value=\"\"/>\n       <input id=\"sr\" name=\"sr\" type=\"hidden\" value=\"\"/>\n       <input id=\"storeID\" name=\"storeID\" type=\"hidden\" value=\"\"/>\n       <input id=\"tagActionCode\" name=\"tagActionCode\" type=\"hidden\" value=\"\"/>\n       <input id=\"viewID\" name=\"viewID\" type=\"hidden\" value=\"glance\"/>\n       <input id=\"rebateId\" name=\"rebateId\" type=\"hidden\" value=\"\"/>\n       <input id=\"ctaDeviceType\" name=\"ctaDeviceType\" type=\"hidden\" value=\"desktop\"/>\n       <input id=\"ctaPageType\" name=\"ctaPageType\" type=\"hidden\" value=\"detail\"/>\n       <input id=\"usePrimeHandler\" name=\"usePrimeHandler\" type=\"hidden\" value=\"0\"/>\n       <input id=\"rsid\" name=\"rsid\" type=\"hidden\" value=\"000-0000000-0000000\"/>\n       <input id=\"sourceCustomerOrgListID\" name=\"sourceCustomerOrgListID\" type=\"hidden\" value=\"\"/>\n       <input id=\"sourceCustomerOrgListItemID\" name=\"sourceCustomerOrgListItemID\" type=\"hidden\" value=\"\"/>\n       <input name=\"wlPopCommand\" type=\"hidden\" value=\"\"/>\n       <div class=\"a-box\" id=\"partialStateBuybox\">\n        <div class=\"a-box-inner\">\n         <div class=\"a-section a-spacing-small a-text-center\">\n          <span>\n           Para comprar, selecciona\n           <strong class=\"unselectedDims\">\n            Tamaño\n           </strong>\n          </span>\n          <!-- If partialItemStateWeblab is true, then not displaying the second line above add-to-cart i.e \"Choose from options to the left\".\nThis is done to make it consistent with add-to-cart and add-to-wish-list button.\n-->\n          <br/>\n          <span class=\"a-color-secondary\">\n           Elige entre las opciones a la izquierda\n          </span>\n         </div>\n         <script type=\"text/javascript\">\n          P.when(\"jQuery\", \"a-popover\", \"ready\").execute(function ($, popover) {\n\nvar twisterHighlight = $(\".twister-dropdown-highlight\");\nvar isPartialSizeWeblab = $(\"#buybox\").attr(\"data-isPartialSizeWeblab\") === \"true\" ||\n$(\"#add-to-cart-button\").attr(\"data-isPartialSizeWeblab\") === \"true\";\n\nvar buyboxPartialSizeLabel = isPartialSizeWeblab? 'buyboxPartialSizeLabel' : '';\n$('form#addToCart').submit(function(event){\nevent.preventDefault();\n});\nfunction bindPopover(selector, name) {\nvar $dom = $(selector);\nif ($dom.length == 0) return;\n$dom.attr(\"title\", \"\").css(\"cursor\", \"not-allowed\");\npopover.create($dom, {\n\"name\" : name,\n\"position\": \"triggerLeft\",\n\"closeButton\": \"false\"\n});\nP.when('A').execute(function(A){\nA.on(\"a:popover:beforeShow:\" + name, function(data){\nvar popover = data.popover;\nvar unselectedDims = $(\"#partialStateBuyBox_feature_div .unselectedDims, #partialStateBuybox .unselectedDims\").html();\nvar content = popover.$trigger.attr(\"data-hover\").replace(\"__dims__\", \"<strong class='\" + buyboxPartialSizeLabel + \"'>\" + unselectedDims + \"</strong>\").replace(\",\", \",</br>\");\npopover.update({\"content\": content});\nif(isPartialSizeWeblab) {\nsetTimeout(function () {\ntwisterHighlight.addClass(\"highlightTwisterDropdownBorder\");\ntwisterHighlight.removeClass(\"transparentTwisterDropdownBorder\");\n}, 20);\n}\n});\nA.on(\"a:popover:afterHide:\" + name, function(data){\nif(isPartialSizeWeblab) {\ntwisterHighlight.addClass(\"transparentTwisterDropdownBorder\");\ntwisterHighlight.removeClass(\"highlightTwisterDropdownBorder\");\n}\n});\n});\n}\nbindPopover(\"#add-to-cart-button\", \"atcPopover\");\nbindPopover(\"#buy-now-button\", \"atcPopover\");\nbindPopover(\"#add-to-registry-baby-button-submit\", \"babyRegistrySubmitPopover\");\nbindPopover(\"#add-to-registry-wedding-button\", \"weddingRegistryPopover\");\nbindPopover(\"#add-to-registry-baby-button\", \"babyRegistryPopover\");\n});\n         </script>\n         <div class=\"a-button-stack\">\n          <span class=\"a-button a-spacing-base a-button-primary a-button-icon\" id=\"submit.add-to-cart\">\n           <span class=\"a-button-inner\">\n            <i class=\"a-icon a-icon-cart\">\n            </i>\n            <input aria-labelledby=\"submit.add-to-cart-announce\" class=\"a-button-input\" data-hover=\"Seleccione &lt;b&gt;__dims__&lt;/b&gt; a la izquierda&lt;br&gt; para añadir a la cesta.\" id=\"add-to-cart-button\" name=\"submit.add-to-cart\" title=\"Añadir a la cesta\" type=\"submit\" value=\"Añadir a la cesta\"/>\n            <span aria-hidden=\"true\" class=\"a-button-text\" id=\"submit.add-to-cart-announce\">\n             Añadir a la cesta\n            </span>\n           </span>\n          </span>\n         </div>\n         <div class=\"dp-cif aok-hidden\" data-feature-details='{\"name\":\"atc\",\"isInteractive\":false}'>\n         </div>\n         <script type=\"text/javascript\">\n          (function(f) {f(window.P._namespace(\"DetailPageBuyBoxTemplate\"));}(function(P) {\nP.now().execute('dp-mark-atc',function(){\nif (typeof window.markFeatureRender === 'function') {\nwindow.markFeatureRender('atc',{isInteractive:false});\n}\n});\n}));\n         </script>\n         <hr class=\"a-spacing-base a-divider-normal\"/>\n         <script data-a-state='{\"key\":\"popoverState\"}' type=\"a-state\">\n          {\"formId\":\"addToCart\",\"showWishListDropDown\":false,\"wishlistPopoverWidth\":206,\"isAddToWishListDropDownAuiEnabled\":true,\"showPopover\":false}\n         </script>\n         <div class=\"aok-hidden\" data-amazon-lists-csrf-token=\"guuNlufMfAARwR0hQblkQXt60ZEjWClph4r68k8AAAAMAAAAAF8ceKByYXcAAAAAFVfwLBerPie4v1Ep////\">\n         </div>\n         <script type=\"text/javascript\">\n          (function(f) {f(window.P._namespace(\"list-CF-register-js\"));}(function(P) {\n\"use strict\";\nwindow.P.now('atwl-cf').execute(function (module) {\nvar isRegistered = (typeof module !== 'undefined');\nif (!isRegistered) {\nwindow.P.register('atwl-cf');\n}\n});\n}));\n         </script>\n         <style type=\"text/css\">\n          .registry-button-width {\nwidth:100%;\nmargin-left: ;\nmargin-right: ;\n}\n.add-to-baby-button-spacing-bottom {\nmargin-bottom: 0;\n}\n         </style>\n        </div>\n       </div>\n      </form>\n     </div>\n    </div>\n   </div>\n  </div>\n  <div class=\"feature\" data-feature-name=\"olpLinkWidget\" id=\"olpLinkWidget_feature_div\">\n   <style>\n    .olp-touch-link {\nposition: relative;\ntext-decoration: inherit !important;\ncolor: inherit !important;\n}\n.olp-link-widget .arrow-icon {\nposition: absolute;\ntop: 36%;\nright: 18px;\n}\n.olp-text {\nfloat: left;\n}\n.olp-link-widget {\npadding: 10px 0px;\n}\n.olp-link-widget .a-icon-touch-link {\ndisplay: grid;\n}\n.olp-text-box {\ntext-decoration: none;\npadding-right: 10px;\n}\nhtml[dir=rtl] .olp-link-widget .a-icon-touch-link {\ndisplay: grid;\n}\nhtml[dir=rtl] .olp-link-widget .arrow-icon {\nleft: 2%;\nright: unset;\n}\nhtml[dir=rtl] .olp-text {\nfloat: right !important;\n}\nhtml[dir=rtl] .olp-text-box {\npadding-left: 10px;\npadding-right: 0px;\n}\n   </style>\n  </div>\n  <div class=\"feature\" data-feature-name=\"tellAFriendBox\" id=\"tellAFriendBox_feature_div\">\n   <div class=\"a-section a-spacing-top-small\">\n    <div cel_widget_id=\"tell-a-friend-desktop\" class=\"celwidget\">\n     <div class=\"a-section a-text-center a-spacing-small\" data-close=\"Cerrar\" data-title=\"Compartir producto por Email\" id=\"tell-a-friend\">\n      <div style=\"font-size:13px; line-height:19px\">\n       <a class=\"a-link-normal email\" href=\"mailto:?body=Quiero%20recomendar%20este%20producto%20en%20Amazon.com%0A%0ATommy%20Hilfiger%20Logo%20Camiseta%20de%20Cuello%20Redondo%2CPerfecta%20para%20El%20Tiempo%20Libre%20para%20Hombre%0AM%C3%A1s%20informaci%C3%B3n%3A%20https%3A%2F%2Fwww.amazon.es%2Fdp%2FB01N38PJ91%2Fref%3Dcm_sw_em_r_mt_dp_U_GIhhFbP1E4X5S&amp;subject=Quiero%20recomendar%20este%20producto%20en%20Amazon\" id=\"swfMailTo\" title=\"Compartir por e-mail\">\n        Compartir\n       </a>\n       <span class=\"a-letter-space\">\n       </span>\n       <a class=\"a-link-normal email\" href=\"mailto:?body=Quiero%20recomendar%20este%20producto%20en%20Amazon.com%0A%0ATommy%20Hilfiger%20Logo%20Camiseta%20de%20Cuello%20Redondo%2CPerfecta%20para%20El%20Tiempo%20Libre%20para%20Hombre%0AM%C3%A1s%20informaci%C3%B3n%3A%20https%3A%2F%2Fwww.amazon.es%2Fdp%2FB01N38PJ91%2Fref%3Dcm_sw_em_r_mt_dp_U_GIhhFbP1E4X5S&amp;subject=Quiero%20recomendar%20este%20producto%20en%20Amazon\" id=\"swfImageMailTo\" title=\"Compartir por e-mail\">\n        <i class=\"a-icon a-icon-share-email\" role=\"img\">\n        </i>\n       </a>\n       <span class=\"a-letter-space\">\n       </span>\n       <script type=\"text/javascript\">\n        (function(f) {f(window.P._namespace(\"DetailPageTellAFriendTemplates\"));}(function(P) {\nP.when('A','ready').execute('swfMailTo', function(A){\nvar $ = A.$;\nfunction collectMetrics( placementId ) {\nA.ajax('/gp/aw/social/swf/metrics.html/ref=cm_sw_em_mt_dp_'+ placementId, {\nmethod: 'post',\nparams: {\nid: 'mailtoDp',\nresult: 'mailto share triggered'\n}\n});\n}\n$('#swfMailTo,#swfImage').click( function(){\ncollectMetrics('dp_U_GIhhFbP1E4X5S');\n});\n});\n}));\n       </script>\n       <a class=\"a-link-normal swf-social-site\" data-height=\"400\" href=\"/gp/redirect.html/ref=cm_sw_cl_fa_dp_GIhhFbP1E4X5S?_encoding=UTF8&amp;location=https%3A%2F%2Fwww.facebook.com%2Fdialog%2Fshare%3F_encoding%3DUTF8%26app_id%3D465632727431967%26display%3Dpopup%26href%3Dhttps%253A%252F%252Fwww.amazon.es%252Fdp%252FB01N38PJ91%252Fref%253Dcm_sw_r_fa_dp_GIhhFbP1E4X5S%26redirect_uri%3Dhttps%253A%252F%252Fwww.amazon.es%252Fgp%252Fpdp%252Ftaf%252Futility%252Ffb_post_redirect.html%252Fref%253Dcm_sw_s_fa_dp_GIhhFbP1E4X5S%26hashtag%3D%2523Amazon&amp;token=B1D2D4816588539D2A95378A708278C572359080\" id=\"facebook\" rel=\"noopener\" target=\"_blank\" title=\"Facebook\">\n        <i aria-label=\"Facebook\" class=\"a-icon a-icon-share-facebook\" role=\"img\">\n        </i>\n       </a>\n       <span class=\"a-letter-space\">\n       </span>\n       <a class=\"a-link-normal swf-social-site\" data-height=\"400\" href=\"/gp/redirect.html/ref=cm_sw_cl_tw_dp_GIhhFbP1E4X5S?_encoding=UTF8&amp;location=https%3A%2F%2Ftwitter.com%2Fintent%2Ftweet%3Foriginal_referer%3Dhttps%25253A%25252F%25252Fwww.amazon.es%25252Fgp%25252Fproduct%25252FB01N4M8EZI%25252Fref%25253Dcm_sw_r_tw_dp_x_GIhhFbP1E4X5S%26text%3DTommy%2520Hilfiger%2520Logo%2520Camiseta%2520de%2520Cuello%2520Redondo%252CPerfecta%2520para%2520El%2520Tiempo%2520Libre%2520...%26related%3Damazondeals%252Camazonmp3%26url%3Dhttps%253A%252F%252Fwww.amazon.es%252Fdp%252FB01N38PJ91%252Fref%253Dcm_sw_r_tw_dp_x_GIhhFbP1E4X5S%26via%3Damazon&amp;token=2F3F328DC7B2BB86EE65E3C13E622531C3EBEA4D\" id=\"twitter\" rel=\"noopener\" target=\"_blank\" title=\"Twitter\">\n        <i aria-label=\"Twitter\" class=\"a-icon a-icon-share-twitter\" role=\"img\">\n        </i>\n       </a>\n       <span class=\"a-letter-space\">\n       </span>\n       <a class=\"a-link-normal swf-social-site\" data-height=\"570\" href=\"/gp/redirect.html/ref=cm_sw_cl_pi_dp_GIhhFbP1E4X5S?_encoding=UTF8&amp;location=https%3A%2F%2Fpinterest.com%2Fpin%2Fcreate%2Fbutton%3Furl%3Dhttps%253A%252F%252Fwww.amazon.es%252Fdp%252FB01N38PJ91%252Fref%253Dcm_sw_r_pi_dp_x_GIhhFbP1E4X5S%26description%3DTommy%2520Hilfiger%2520Logo%2520Camiseta%2520de%2520Cuello%2520Redondo%252CPerfecta%2520para%2520El%2520Tiempo%2520Libre%2520para%2520Hombre%2520Tommy%2520Hilfiger%26media%3Dhttps%253A%252F%252Fm.media-amazon.com%252Fimages%252FI%252F31PXF%252BAVntL.jpg&amp;token=F28467F0D5D96E6C2B3C64A09199B2D4CBA0575C\" id=\"pinterest\" rel=\"noopener\" target=\"_blank\" title=\"Pinterest\">\n        <i aria-label=\"Pinterest\" class=\"a-icon a-icon-share-pinterest\" role=\"img\">\n        </i>\n       </a>\n       <span class=\"a-letter-space\">\n       </span>\n      </div>\n     </div>\n     <script type=\"text/javascript\">\n      (function(f) {f(window.P._namespace(\"DetailPageTellAFriendTemplates\"));}(function(P) {\nP.when('A', 'jQuery').execute('tellAFriendBox', function(A,$) {\nvar taf = $('#tell-a-friend');\ntaf.children(\"[data-height]\").click(function() {\nvar height = $(this).attr('data-height');\nwindow.open(this.href, '_blank', 'location=yes,width=700,height=' + height);\nreturn false;\n});\n});\n}));\n     </script>\n    </div>\n   </div>\n  </div>\n  <div class=\"feature\" data-feature-name=\"almMultiOfferEgress\" id=\"almMultiOfferEgress_feature_div\">\n  </div>\n  <div class=\"feature\" data-feature-name=\"moreBuyingChoices\" id=\"moreBuyingChoices_feature_div\">\n  </div>\n  <div class=\"feature\" data-feature-name=\"skyCitySoftMerge\" id=\"skyCitySoftMerge_feature_div\">\n  </div>\n  <div class=\"feature\" data-feature-name=\"servicesInterstitial\" id=\"servicesInterstitial_feature_div\">\n  </div>\n  <div class=\"feature\" data-feature-name=\"amsDetailRight\" id=\"amsDetailRight_feature_div\">\n  </div>\n </div>\n</div>\n"
    }
   ],
   "source": [
    "tommy = soup.find(class_='a-fixed-right-grid-inner')\n",
    "show_html(str(tommy))\n",
    "#buscamos el contenido del body"
   ]
  },
  {
   "cell_type": "code",
   "execution_count": null,
   "metadata": {},
   "outputs": [],
   "source": []
  }
 ],
 "metadata": {
  "language_info": {
   "codemirror_mode": {
    "name": "ipython",
    "version": 3
   },
   "file_extension": ".py",
   "mimetype": "text/x-python",
   "name": "python",
   "nbconvert_exporter": "python",
   "pygments_lexer": "ipython3",
   "version": 3
  },
  "orig_nbformat": 2,
  "kernelspec": {
   "name": "python_defaultSpec_1595699910803",
   "display_name": "Python 3.6.4 64-bit"
  }
 },
 "nbformat": 4,
 "nbformat_minor": 2
}